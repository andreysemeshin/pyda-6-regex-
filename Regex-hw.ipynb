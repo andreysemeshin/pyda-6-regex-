{
 "cells": [
  {
   "cell_type": "markdown",
   "metadata": {},
   "source": [
    "# Домашнее задание к лекции \"Регулярные выражения\"\n",
    "Для зачета необходимо выполнить 4 задания.  \n",
    "Для зачета с отличием – все."
   ]
  },
  {
   "cell_type": "markdown",
   "metadata": {},
   "source": [
    "## Задание 1"
   ]
  },
  {
   "cell_type": "markdown",
   "metadata": {},
   "source": [
    "Напишите функцию, которая принимает на вход строку и проверяет является ли она валидным транспортным номером. Если да, то функция должна возвращать отдельно номер и регион."
   ]
  },
  {
   "cell_type": "code",
   "execution_count": 31,
   "metadata": {},
   "outputs": [
    {
     "name": "stdout",
     "output_type": "stream",
     "text": [
      "Введите номер авто: c212ee750\n",
      "Номер: C212EE Регион: 750\n"
     ]
    }
   ],
   "source": [
    "import re\n",
    "def valid_num(car_num):\n",
    "    pattern_car_num = '([АВЕКМНОРСТУХabekmhopctyx]{1})([0-9]{3})([АВЕКМНОРСТУХabekmhopctyx]{2})([0-9]{2,3})'\n",
    "    if re.search(pattern_car_num, car_num):\n",
    "        result = re.findall(pattern_car_num, car_num)\n",
    "        s = list(result[0])\n",
    "        num = s[0] + s[1] + s[2] \n",
    "        region = s[3]\n",
    "        str_return = ''\n",
    "        str_return = 'Номер: ' + num.upper() + ' Регион: ' + region\n",
    "        return str_return\n",
    "    else:\n",
    "        str_return = 'Номер невалидный'\n",
    "        return str_return\n",
    "\n",
    "car_num = input('Введите номер авто: ')\n",
    "print(valid_num(car_num))\n",
    "\n",
    "\n"
   ]
  },
  {
   "cell_type": "markdown",
   "metadata": {},
   "source": [
    "## Задание 2"
   ]
  },
  {
   "cell_type": "markdown",
   "metadata": {},
   "source": [
    "Напишите функцию, которая проверяет e-mail адрес на валидность по стандарту RFC822: http://www.w3.org/Protocols/rfc822/. Для этого постарайтесь написать (в крайнем случае найти) самый полный шаблон для проверки e-mail адресов через регулярное выражение. Разберитесь и напишите примеры, какие ваш шаблон может не охватить."
   ]
  },
  {
   "cell_type": "code",
   "execution_count": 32,
   "metadata": {},
   "outputs": [
    {
     "name": "stdout",
     "output_type": "stream",
     "text": [
      "Введите имейл: asda!@gmail.com\n",
      "Почта соответствует RFC822\n"
     ]
    }
   ],
   "source": [
    "import re\n",
    "\n",
    "def valid_mail(email):\n",
    "    pattern_mail = '[^@ ,<>\\/()]+@[^@ ,<>\\/()]+'\n",
    "#     '[!#$%^&&*-_+=A-Za-z0-9\\.|`~]+@[!#$%^&&*-_+=A-Za-z0-9\\.|`~]+'\n",
    "    if re.search(pattern_mail, email):\n",
    "        return 'Почта соответствует RFC822'\n",
    "    else:\n",
    "        return 'Почта не соответствует RFC822'\n",
    "    \n",
    "    \n",
    "email = input('Введите имейл: ')\n",
    "print(valid_mail(email))    \n",
    "\n",
    "# шаблон не охватывает двойной символ @"
   ]
  },
  {
   "cell_type": "markdown",
   "metadata": {},
   "source": [
    "Задание 3\n",
    "Напишите функцию, которая будет удалять все последовательные повторы слов из заданной строки."
   ]
  },
  {
   "cell_type": "code",
   "execution_count": 33,
   "metadata": {},
   "outputs": [
    {
     "name": "stdout",
     "output_type": "stream",
     "text": [
      "Введите текст: привет привет как как как как дела дела дела\n",
      "\n",
      "Текст без последовательных повторов слов:  Привет как дела\n"
     ]
    }
   ],
   "source": [
    "import re\n",
    "\n",
    "def del_repeat(line):\n",
    "    temp = ''\n",
    "    new_str = []\n",
    "    new_str1 = []\n",
    "    string = re.findall('[\\w]+', line)\n",
    "    for word in string:\n",
    "        if temp != word:\n",
    "            new_str.append(word)\n",
    "            new_str1 += word+' '\n",
    "        temp = word    \n",
    "    line_return = ' '.join(new_str)   \n",
    "    return line_return.capitalize()\n",
    "    \n",
    "\n",
    "line = input('Введите текст: ')\n",
    "print('\\nТекст без последовательных повторов слов: ', del_repeat(line))"
   ]
  },
  {
   "cell_type": "markdown",
   "metadata": {},
   "source": [
    "## Задание 4\n",
    "Напишите функцию, которая будет проверять номер сотового телефона на валидность, если он валиден, то переводить его в формат:   \n",
    "+7(xxx)-xxx-xx-xx  \n",
    "Постарайтесь предусмотреть как можно больше адекватных форматов изначального ввода номера.\n",
    "Примеры правильных и неправильных форматов:\n",
    "- +7 955 555-55-55;\n",
    "- 955555555;\n",
    "- 8(955)555-55-55;\n",
    "- +7 955 555 55 55;\n",
    "- 7(955) 555-55-55;\n",
    "- +7 955+555+55+55."
   ]
  },
  {
   "cell_type": "code",
   "execution_count": 30,
   "metadata": {},
   "outputs": [
    {
     "name": "stdout",
     "output_type": "stream",
     "text": [
      "Введите номер: +7 955+555+55+55.\n",
      "Номер не валиден\n"
     ]
    }
   ],
   "source": [
    "import re\n",
    "def valid_phone(num):\n",
    "    s = ''\n",
    "    cnt = 0\n",
    "    pattern_phone  = '(((8|\\+7)[\\- ]?)?(\\(?\\d{3}\\)?[\\- ]?)?[\\d\\- ]){7,10}'\n",
    "    if re.search(pattern_phone, num):\n",
    "        for i in num:\n",
    "            if i.isnumeric():\n",
    "                if cnt == 0 and (int(i) == 8 or int(i) == 7):\n",
    "                    i = '+7'    \n",
    "                if cnt == 0 and int(i) != 8 and int(i) != 7:\n",
    "                    i = '+7' + i\n",
    "                s += i\n",
    "                cnt += 1\n",
    "        if len(s) < 12:\n",
    "            return 'Номер не валиден'\n",
    "        new_num = s[0:2]+'('+s[2:5]+')-'+s[5:8]+'-'+s[8:10]+'-'+s[10:12]\n",
    "        return new_num\n",
    "    else:\n",
    "        return 'Номер не валиден'\n",
    "    \n",
    "    \n",
    "    \n",
    "num = input('Введите номер: ')\n",
    "print(valid_phone(num))\n",
    "    \n",
    "    \n",
    "    \n",
    "    "
   ]
  }
 ],
 "metadata": {
  "kernelspec": {
   "display_name": "Python 3",
   "language": "python",
   "name": "python3"
  },
  "language_info": {
   "codemirror_mode": {
    "name": "ipython",
    "version": 3
   },
   "file_extension": ".py",
   "mimetype": "text/x-python",
   "name": "python",
   "nbconvert_exporter": "python",
   "pygments_lexer": "ipython3",
   "version": "3.7.4"
  }
 },
 "nbformat": 4,
 "nbformat_minor": 2
}
